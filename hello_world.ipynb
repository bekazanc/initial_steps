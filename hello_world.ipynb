{
  "nbformat": 4,
  "nbformat_minor": 0,
  "metadata": {
    "colab": {
      "provenance": [],
      "collapsed_sections": [],
      "authorship_tag": "ABX9TyMX+Z2CUIri88lOZ6F9Weu4",
      "include_colab_link": true
    },
    "kernelspec": {
      "name": "python3",
      "display_name": "Python 3"
    },
    "language_info": {
      "name": "python"
    }
  },
  "cells": [
    {
      "cell_type": "markdown",
      "metadata": {
        "id": "view-in-github",
        "colab_type": "text"
      },
      "source": [
        "<a href=\"https://colab.research.google.com/github/bekazanc/initial_steps/blob/main/hello_world.ipynb\" target=\"_parent\"><img src=\"https://colab.research.google.com/assets/colab-badge.svg\" alt=\"Open In Colab\"/></a>"
      ]
    },
    {
      "cell_type": "markdown",
      "source": [
        "This is my first script. I want to say hello to world. Hi!"
      ],
      "metadata": {
        "id": "8Jae50s6BDxP"
      }
    },
    {
      "cell_type": "code",
      "execution_count": null,
      "metadata": {
        "colab": {
          "base_uri": "https://localhost:8080/"
        },
        "id": "EKTYh_3EA90-",
        "outputId": "a3048f5d-66a1-42f0-df63-16ad07162136"
      },
      "outputs": [
        {
          "output_type": "stream",
          "name": "stdout",
          "text": [
            "Hello world\n"
          ]
        }
      ],
      "source": [
        "print(\"Hello world\")"
      ]
    },
    {
      "cell_type": "code",
      "source": [
        "2 + 5"
      ],
      "metadata": {
        "colab": {
          "base_uri": "https://localhost:8080/"
        },
        "id": "9jJvOL5CBC_5",
        "outputId": "71749a5c-2b0f-4a40-9bd4-e2676fa9298d"
      },
      "execution_count": null,
      "outputs": [
        {
          "output_type": "execute_result",
          "data": {
            "text/plain": [
              "7"
            ]
          },
          "metadata": {},
          "execution_count": 2
        }
      ]
    },
    {
      "cell_type": "code",
      "source": [
        "# create a function for some elements\n",
        "def sum_the_numbers (a,b, show=False):\n",
        "  total = a + b\n",
        "  if show:\n",
        "    print('show is True and value is ', total)\n",
        "  return total"
      ],
      "metadata": {
        "id": "I1tedVbUBDC5"
      },
      "execution_count": null,
      "outputs": []
    },
    {
      "cell_type": "code",
      "source": [
        "sum_result = sum_the_numbers(5,7)\n",
        "print(sum_result)\n"
      ],
      "metadata": {
        "colab": {
          "base_uri": "https://localhost:8080/"
        },
        "id": "0h_NcSHJC-NI",
        "outputId": "189b592e-a71a-40ab-845d-8140aec086e0"
      },
      "execution_count": null,
      "outputs": [
        {
          "output_type": "stream",
          "name": "stdout",
          "text": [
            "12\n"
          ]
        }
      ]
    },
    {
      "cell_type": "code",
      "source": [
        "numbers = range(0,11)\n",
        "for x in numbers:\n",
        "  print(x) "
      ],
      "metadata": {
        "colab": {
          "base_uri": "https://localhost:8080/"
        },
        "id": "AY-2eAL5Ed1H",
        "outputId": "8a906876-2d32-4502-9c8c-1b673cd30ec2"
      },
      "execution_count": null,
      "outputs": [
        {
          "output_type": "stream",
          "name": "stdout",
          "text": [
            "0\n",
            "1\n",
            "2\n",
            "3\n",
            "4\n",
            "5\n",
            "6\n",
            "7\n",
            "8\n",
            "9\n",
            "10\n"
          ]
        }
      ]
    },
    {
      "cell_type": "code",
      "source": [
        "numbers = range(0,11)\n",
        "for x in numbers:\n",
        "  if x % 2 == 0:\n",
        "    print(x,\": even\")\n",
        "  else:\n",
        "      print(x, \": odd\")"
      ],
      "metadata": {
        "colab": {
          "base_uri": "https://localhost:8080/"
        },
        "id": "a39H9w9QEu9X",
        "outputId": "022b15a7-15fe-4c29-b6f9-31ec7e9b5455"
      },
      "execution_count": null,
      "outputs": [
        {
          "output_type": "stream",
          "name": "stdout",
          "text": [
            "0 : even\n",
            "1 : odd\n",
            "2 : even\n",
            "3 : odd\n",
            "4 : even\n",
            "5 : odd\n",
            "6 : even\n",
            "7 : odd\n",
            "8 : even\n",
            "9 : odd\n",
            "10 : even\n"
          ]
        }
      ]
    },
    {
      "cell_type": "code",
      "source": [
        "numbers = range(0,11)\n",
        "even_list = []\n",
        "odd_list = []\n",
        "\n",
        "for x in numbers:\n",
        "  if x % 2 == 0:\n",
        "   even_list.append(x)\n",
        "  else:\n",
        "      odd_list.append(x)\n",
        "print(\"Even elements are: \", even_list)\n",
        "print(\"Odd elements are: \", odd_list)"
      ],
      "metadata": {
        "colab": {
          "base_uri": "https://localhost:8080/"
        },
        "id": "CrQ26m8tE6K_",
        "outputId": "1e3b344e-5351-487d-92da-97eb68817449"
      },
      "execution_count": null,
      "outputs": [
        {
          "output_type": "stream",
          "name": "stdout",
          "text": [
            "Even elements are:  [0, 2, 4, 6, 8, 10]\n",
            "Odd elements are:  [1, 3, 5, 7, 9]\n"
          ]
        }
      ]
    }
  ]
}